{
 "cells": [
  {
   "cell_type": "code",
   "execution_count": 56,
   "metadata": {},
   "outputs": [
    {
     "name": "stdout",
     "output_type": "stream",
     "text": [
      "1843\n",
      "180000\n"
     ]
    }
   ],
   "source": [
    "# Convert each string to an int\n",
    "f = [[int(x) for x in list(line)] \n",
    "     for line in open('puzzle.txt').read().split(\"\\n\")]\n",
    "\n",
    "# Part 1\n",
    "# Count all visible trees\n",
    "# Check[r][c] current tree in cardinal directions, if tree height\n",
    "# is greater than all trees to each edge, it is visible\n",
    "print(sum([1 for r in range(len(f))\n",
    "             for c in range(len(f[r]))\n",
    "             if all(x < f[r][c] for x in f[r][:c]) or # Left\n",
    "                all(x < f[r][c] for x in f[r][c + 1:]) or # Right\n",
    "                all(x < f[r][c] for x in [item[c] for item in f[:r]]) or # Up\n",
    "                all(x < f[r][c] for x in [item[c] for item in f[r+1:]])])) # Down\n",
    "\n",
    "# Part 2\n",
    "# Find highest scenic score\n",
    "\n",
    "# Aside: \n",
    "# The next() function iterates over a list until the condition is first satisfied\n",
    "# Use it to slice the row/column until the first occurance where the view is blocked, inclusively;\n",
    "# hence, the [:i+1]\n",
    "\n",
    "# Compute the scenic score of each tree and store it into a 2D list\n",
    "# Get the max after flattening the list of list\n",
    "\n",
    "# Left\n",
    "# next((f[r][:c][::-1][:i+1] for i,v in enumerate(f[r][:c][::-1]) if v >= f[r][c]),\n",
    "# [t for t in f[r][:c][::-1] if t < f[r][c]])\n",
    "# If it is blocked, take the range of trees from nearest tree till the blocked tree;\n",
    "# hence the [::-1] to reverse the order. Otherwise, take the trees from nearest tree\n",
    "# till the edge. Similar logic is applied to the other directions (right, up, and down)\n",
    "\n",
    "print(max([score for scores in \n",
    "          [[(len(next((f[r][:c][::-1][:i+1] for i,v in enumerate(f[r][:c][::-1]) if v >= f[r][c]),\n",
    "                     [t for t in f[r][:c][::-1] if t < f[r][c]])) *\n",
    "           len(next((f[r][c+1:][:i+1] for i,v in enumerate(f[r][c+1:]) if v >= f[r][c]),\n",
    "                    [t for t in f[r][c+1:] if t < f[r][c]])) *\n",
    "           len(next(([item[c] for item in f[:r]][::-1][:i+1] \n",
    "                    for i,v in enumerate([item[c] for item in f[:r]][::-1]) if v >= f[r][c]),\n",
    "                    [t for t in [item[c] for item in f[:r]][::-1] if t < f[r][c]])) *\n",
    "           len(next(([item[c] for item in f[r+1:]][:i+1]\n",
    "                    for i,v in enumerate([item[c] for item in f[r+1:]]) if v >= f[r][c]),\n",
    "                    [t for t in [item[c] for item in f[r+1:]] if t < f[r][c]]))\n",
    "          ) for c in range(len(f[r]))] for r in range(len(f))] \n",
    "          for score in scores]))"
   ]
  },
  {
   "cell_type": "markdown",
   "metadata": {},
   "source": []
  }
 ],
 "metadata": {
  "kernelspec": {
   "display_name": "Python 3.10.8 64-bit",
   "language": "python",
   "name": "python3"
  },
  "language_info": {
   "codemirror_mode": {
    "name": "ipython",
    "version": 3
   },
   "file_extension": ".py",
   "mimetype": "text/x-python",
   "name": "python",
   "nbconvert_exporter": "python",
   "pygments_lexer": "ipython3",
   "version": "3.10.8"
  },
  "orig_nbformat": 4,
  "vscode": {
   "interpreter": {
    "hash": "369f2c481f4da34e4445cda3fffd2e751bd1c4d706f27375911949ba6bb62e1c"
   }
  }
 },
 "nbformat": 4,
 "nbformat_minor": 2
}

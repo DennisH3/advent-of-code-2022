{
 "cells": [
  {
   "cell_type": "code",
   "execution_count": 10,
   "metadata": {},
   "outputs": [
    {
     "name": "stdout",
     "output_type": "stream",
     "text": [
      "6087\n",
      "2459\n"
     ]
    }
   ],
   "source": [
    "# Read file\n",
    "f = open('puzzle.txt').read().split('\\n')\n",
    "\n",
    "# Part 1\n",
    "# Declare tuple of coordinates to track Head and Tail\n",
    "H = (0,0)\n",
    "T = (0, 0)\n",
    "\n",
    "# Declare cost of each move per pair of directions\n",
    "DR = {'L': -1, 'U': 0, 'R': 1, 'D': 0}\n",
    "DC = {'L': 0, 'U': 1, 'R': 0, 'D': -1}\n",
    "\n",
    "# Use a set to keep track of coordinates traveled at least once\n",
    "P1 = set([T])\n",
    "\n",
    "# Part 2 - track the ninth knot\n",
    "T2 = [(0,0) for _ in range(9)] # Initialize 9 coordinates (1 per knot)\n",
    "P2 = set([T2[8]]) # Only care about the last one\n",
    "\n",
    "# For each line\n",
    "for line in f:\n",
    "\n",
    "    # Split the line into direction and # of moves\n",
    "    cmd = line.split()\n",
    "\n",
    "    # For number of moves\n",
    "    for _ in range(int(cmd[1])):\n",
    "\n",
    "        # Update head by 1 move in its respective direction\n",
    "        H = (H[0] + DR[cmd[0]], H[1]+DC[cmd[0]])\n",
    "\n",
    "        # If absolute difference between x-coordinate is > 1\n",
    "        # -1 (go right) or +1 (go right) wrt to H\n",
    "        if abs(H[0]-T[0]) > 1:\n",
    "            T = (H[0] - 1 if T[0] < H[0] else H[0] + 1, H[1])\n",
    "\n",
    "        # If absolute difference between y-coordinate is > 1\n",
    "        # -1 (go up) or +1 (go down) wrt to H\n",
    "        if abs(H[1]-T[1]) > 1:\n",
    "            T = (H[0], H[1]-1 if T[1]<H[1] else H[1]+1)\n",
    "\n",
    "         # Add update T to p1 set\n",
    "        P1.add(T)\n",
    "\n",
    "        # Part 2\n",
    "        # Update first knot to follow Part 1's\n",
    "        T2[0] = T\n",
    "\n",
    "        # For each knot, it's head is the prev knot\n",
    "        # follow the same logic as in part 1\n",
    "        for i in range(1, 9):\n",
    "            if abs(T2[i-1][0]-T2[i][0])> 1:\n",
    "                T2[i] = (T2[i-1][0]-1 if T2[i][0]<T2[i-1][0] else T2[i-1][0]+1, T2[i-1][1])\n",
    "            if abs(T2[i-1][1]-T2[i][1])> 1:\n",
    "                T2[i] = (T2[i-1][0], T2[i-1][1]-1 if T2[i][1]<T2[i-1][1] else T2[i-1][1]+1)\n",
    "\n",
    "        # Add update T2[8] to p2 set\n",
    "        P2.add(T2[8])\n",
    "\n",
    "# Print results\n",
    "print(len(P1))\n",
    "print(len(P2))"
   ]
  }
 ],
 "metadata": {
  "kernelspec": {
   "display_name": "Python 3.10.8 64-bit",
   "language": "python",
   "name": "python3"
  },
  "language_info": {
   "codemirror_mode": {
    "name": "ipython",
    "version": 3
   },
   "file_extension": ".py",
   "mimetype": "text/x-python",
   "name": "python",
   "nbconvert_exporter": "python",
   "pygments_lexer": "ipython3",
   "version": "3.10.8"
  },
  "orig_nbformat": 4,
  "vscode": {
   "interpreter": {
    "hash": "369f2c481f4da34e4445cda3fffd2e751bd1c4d706f27375911949ba6bb62e1c"
   }
  }
 },
 "nbformat": 4,
 "nbformat_minor": 2
}

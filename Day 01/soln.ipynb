{
 "cells": [
  {
   "cell_type": "code",
   "execution_count": 1,
   "metadata": {},
   "outputs": [
    {
     "name": "stdout",
     "output_type": "stream",
     "text": [
      "70720\n"
     ]
    }
   ],
   "source": [
    "# Part 1\n",
    "# Find max number of calories\n",
    "\n",
    "# Open the text file\n",
    "with open('puzzle.txt') as f:\n",
    "\n",
    "    # Take the sum of each elf's snacks' calories\n",
    "\n",
    "    # f.read().split(\"\\n\\n) separates each elf's snacks to their own group (split by double newline) \n",
    "    # snack.split('\\n') splits the single string of snacks into individual values (list of strings)\n",
    "    # int(c) converts each calorie in each group of snacks from string to int\n",
    "    # sum([int(c) for c in snack.split('\\n')]) - total calories each elf has\n",
    "\n",
    "    # Sum the converted list of list of strings to list of list of ints\n",
    "    calories = [sum([int(c) for c in snack.split('\\n')]) for snack in f.read().split(\"\\n\\n\")]\n",
    "\n",
    "# Get max calories\n",
    "print(max(calories))"
   ]
  },
  {
   "cell_type": "code",
   "execution_count": 2,
   "metadata": {},
   "outputs": [
    {
     "data": {
      "text/plain": [
       "207148"
      ]
     },
     "execution_count": 2,
     "metadata": {},
     "output_type": "execute_result"
    }
   ],
   "source": [
    "# Part 2\n",
    "# Sum of calories of top 3 elves\n",
    "\n",
    "# Sort calories in descending order and take the sum of the first 3\n",
    "sum(sorted(calories, reverse=True)[:3])"
   ]
  }
 ],
 "metadata": {
  "kernelspec": {
   "display_name": "Python 3.10.8 64-bit",
   "language": "python",
   "name": "python3"
  },
  "language_info": {
   "codemirror_mode": {
    "name": "ipython",
    "version": 3
   },
   "file_extension": ".py",
   "mimetype": "text/x-python",
   "name": "python",
   "nbconvert_exporter": "python",
   "pygments_lexer": "ipython3",
   "version": "3.10.8"
  },
  "orig_nbformat": 4,
  "vscode": {
   "interpreter": {
    "hash": "369f2c481f4da34e4445cda3fffd2e751bd1c4d706f27375911949ba6bb62e1c"
   }
  }
 },
 "nbformat": 4,
 "nbformat_minor": 2
}

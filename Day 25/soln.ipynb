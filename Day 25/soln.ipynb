{
 "cells": [
  {
   "cell_type": "code",
   "execution_count": 38,
   "metadata": {},
   "outputs": [
    {
     "name": "stdout",
     "output_type": "stream",
     "text": [
      "2-21=02=1-121-2-11-0\n"
     ]
    }
   ],
   "source": [
    "# Read a file line by line\n",
    "# Convert SNAFU numbers to decimal\n",
    "dec_f = sum([sum([5 ** i * v for i,v in enumerate(n)]) \n",
    "             for n in [[-1 if x == '-' \n",
    "                           else -2 if x == '=' \n",
    "                           else int(x) for x in list(l)][::-1]\n",
    "                        for l in open(\"puzzle.txt\").read().split(\"\\n\")]])\n",
    "\n",
    "# Define int to snafu char\n",
    "values = {-1: '-', -2: \"=\", 0: '0', 1: '1', 2: '2'}\n",
    "\n",
    "# Empty string to store snafu\n",
    "snafu = ''\n",
    "\n",
    "# Negative bases (or bases with negative values) carry over by one\n",
    "carry = False\n",
    "\n",
    "# While dec_f is greater than 0\n",
    "while dec_f > 0:\n",
    "\n",
    "    # Value is dec_f mod 5\n",
    "    value = dec_f % 5\n",
    "\n",
    "    # If there's a carry\n",
    "    if carry:\n",
    "\n",
    "        # Increment value and set carry back to false\n",
    "        value += 1\n",
    "        carry = False\n",
    "      \n",
    "    # If value is greater than 2 (the max 1 digit snafu number)\n",
    "    if value > 2:\n",
    "\n",
    "        # Carry is true and subtract 5\n",
    "        carry = True\n",
    "        value -= 5\n",
    "      \n",
    "    # Generate the snafu by prepending the current char to the position\n",
    "    snafu = values[value] + snafu\n",
    "\n",
    "    # Update dec_f by dividing by 5 and flooring\n",
    "    dec_f //= 5\n",
    "\n",
    "# Convert decimal back to SNAFU\n",
    "print(snafu)"
   ]
  }
 ],
 "metadata": {
  "kernelspec": {
   "display_name": "Python 3.10.8 64-bit",
   "language": "python",
   "name": "python3"
  },
  "language_info": {
   "codemirror_mode": {
    "name": "ipython",
    "version": 3
   },
   "file_extension": ".py",
   "mimetype": "text/x-python",
   "name": "python",
   "nbconvert_exporter": "python",
   "pygments_lexer": "ipython3",
   "version": "3.10.8"
  },
  "orig_nbformat": 4,
  "vscode": {
   "interpreter": {
    "hash": "369f2c481f4da34e4445cda3fffd2e751bd1c4d706f27375911949ba6bb62e1c"
   }
  }
 },
 "nbformat": 4,
 "nbformat_minor": 2
}

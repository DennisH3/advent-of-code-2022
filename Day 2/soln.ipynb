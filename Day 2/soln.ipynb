{
 "cells": [
  {
   "cell_type": "code",
   "execution_count": 11,
   "metadata": {},
   "outputs": [
    {
     "name": "stdout",
     "output_type": "stream",
     "text": [
      "11666\n",
      "12767\n"
     ]
    }
   ],
   "source": [
    "# Part 1\n",
    "# Find total score\n",
    "\n",
    "# Define constants\n",
    "X = 1\n",
    "Y = 2\n",
    "Z = 3\n",
    "\n",
    "# Part 1 definitions\n",
    "# A, X = 'Rock'\n",
    "# B, Y = 'Paper'\n",
    "# C, Z = 'Scissors'\n",
    "\n",
    "# Part 2 definition\n",
    "# X = lose\n",
    "# Y = tie\n",
    "# Z = win\n",
    "\n",
    "# Define values for every combo\n",
    "combos_p1 = {'A Y': 6,\n",
    "             'B Z': 6,\n",
    "             'C X': 6,\n",
    "             'A X': 3,\n",
    "             'B Y': 3,\n",
    "             'C Z': 3,\n",
    "             'A Z': 0,\n",
    "             'B X': 0,\n",
    "             'C Y': 0,\n",
    "            }\n",
    "\n",
    "combos_p2 = {'A Y': 3, # rock-rock (tie)\n",
    "             'B Z': 6, # paper-scissors (win)\n",
    "             'C X': 0, # scissors-paper (lose)\n",
    "             'A X': 0, # rock-scissors (lose)\n",
    "             'B Y': 3, # paper-paper (tie)\n",
    "             'C Z': 6, # scissors-rock (win)\n",
    "             'A Z': 6, # rock-paper (win)\n",
    "             'B X': 0, # paper-rock (lose)\n",
    "             'C Y': 3, # scissors-scissors (tie)\n",
    "            }\n",
    "\n",
    "# Open the text file\n",
    "with open('puzzle.txt') as f:\n",
    "\n",
    "    # Get each row as a string\n",
    "    strategy = f.read().split(\"\\n\")\n",
    "\n",
    "    # Join list of string into one string\n",
    "    file = ''.join(strategy)\n",
    "\n",
    "    # Part 1\n",
    "    # Take the total score of a game\n",
    "    # Calculate all round totals then \n",
    "    # sum each move's count multiplied by its value\n",
    "    total = (sum([combos_p1[k] for k in strategy]) +\n",
    "             X * file.count('X') +\n",
    "             Y * file.count('Y') +\n",
    "             Z * file.count('Z'))\n",
    "\n",
    "    print(total)\n",
    "\n",
    "    # Part 2\n",
    "    # Calculate all round totals (WLT) then \n",
    "    # sum each move's count multiplied by its value\n",
    "    total = (sum([combos_p2[k] for k in strategy]) +\n",
    "             X * (file.count('A Y') + file.count('B X') + file.count('C Z')) +\n",
    "             Y * (file.count('A Z') + file.count('B Y') + file.count('C X')) +\n",
    "             Z * (file.count('A X') + file.count('B Z') + file.count('C Y')))\n",
    "\n",
    "    print(total)"
   ]
  }
 ],
 "metadata": {
  "kernelspec": {
   "display_name": "Python 3.10.8 64-bit",
   "language": "python",
   "name": "python3"
  },
  "language_info": {
   "codemirror_mode": {
    "name": "ipython",
    "version": 3
   },
   "file_extension": ".py",
   "mimetype": "text/x-python",
   "name": "python",
   "nbconvert_exporter": "python",
   "pygments_lexer": "ipython3",
   "version": "3.10.8"
  },
  "orig_nbformat": 4,
  "vscode": {
   "interpreter": {
    "hash": "369f2c481f4da34e4445cda3fffd2e751bd1c4d706f27375911949ba6bb62e1c"
   }
  }
 },
 "nbformat": 4,
 "nbformat_minor": 2
}

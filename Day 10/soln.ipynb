{
 "cells": [
  {
   "cell_type": "code",
   "execution_count": 44,
   "metadata": {},
   "outputs": [
    {
     "name": "stdout",
     "output_type": "stream",
     "text": [
      "14820\n",
      "###  #### #### #  # #### #### #  #  ##  \n",
      "#  #    # #    # #  #    #    #  # #  # \n",
      "#  #   #  ###  ##   ###  ###  #### #  # \n",
      "###   #   #    # #  #    #    #  # #### \n",
      "# #  #    #    # #  #    #    #  # #  # \n",
      "#  # #### #### #  # #### #    #  # #  # \n"
     ]
    }
   ],
   "source": [
    "# Part 1\n",
    "# Read a file\n",
    "# Prepend a noop to each add operation since addx is 2 cycles\n",
    "# but the first cycle does nothing\n",
    "f = \"\\n\".join([\"noop\\n\" + line if line != \"noop\" else line \n",
    "               for line in open('puzzle.txt').read().split(\"\\n\")]).split(\"\\n\")\n",
    "\n",
    "# Declare starting value\n",
    "xreg = [1]\n",
    "\n",
    "# Define pixels on CRT for Part 2\n",
    "G = [['.' for _ in range(40)] for _ in range(6)]\n",
    "\n",
    "# For each command\n",
    "for i in range(len(f)):\n",
    "\n",
    "    # If it is noop, append prev value\n",
    "    if f[i] == \"noop\":\n",
    "        xreg.append(xreg[i])\n",
    "    \n",
    "    # Otherwise, it is add, so take prev value and addx\n",
    "    else:\n",
    "        xreg.append(xreg[i] + int(f[i].split()[1]))\n",
    "    \n",
    "    # Part 2\n",
    "    # Update grid\n",
    "    # [i // 40] = rows; // does floor division\n",
    "    # [i % 40] = columns\n",
    "    # The pixel lights up if the abs of current X - col index <= 1\n",
    "    # because it can only print one pixel at a time where a sprite pixel\n",
    "    # (any of the 3 pixels) is at the current (row, col)\n",
    "    # Note: replaced '.' for dark pixel since space is easier to read\n",
    "    G[i // 40][i % 40] = ('#' if abs(xreg[i] - (i % 40)) <= 1 else ' ')\n",
    "\n",
    "# Compute total signal strength\n",
    "print(sum([xreg[i-1] * i for i in range(20, 260, 40)]))\n",
    "\n",
    "# For each row in the grid\n",
    "for r in range(6):\n",
    "\n",
    "    # Print the joined chars\n",
    "    print(''.join(G[r]))"
   ]
  }
 ],
 "metadata": {
  "kernelspec": {
   "display_name": "Python 3.10.8 64-bit",
   "language": "python",
   "name": "python3"
  },
  "language_info": {
   "codemirror_mode": {
    "name": "ipython",
    "version": 3
   },
   "file_extension": ".py",
   "mimetype": "text/x-python",
   "name": "python",
   "nbconvert_exporter": "python",
   "pygments_lexer": "ipython3",
   "version": "3.10.8"
  },
  "orig_nbformat": 4,
  "vscode": {
   "interpreter": {
    "hash": "369f2c481f4da34e4445cda3fffd2e751bd1c4d706f27375911949ba6bb62e1c"
   }
  }
 },
 "nbformat": 4,
 "nbformat_minor": 2
}

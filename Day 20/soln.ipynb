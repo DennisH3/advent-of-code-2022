{
 "cells": [
  {
   "cell_type": "code",
   "execution_count": 22,
   "metadata": {},
   "outputs": [
    {
     "name": "stdout",
     "output_type": "stream",
     "text": [
      "7228\n",
      "4526232706281\n"
     ]
    }
   ],
   "source": [
    "# Source: https://github.com/jonathanpaulson/AdventOfCode/blob/master/2022/20.py\n",
    "from collections import deque\n",
    "\n",
    "# Read a file\n",
    "f = [int(x) for x in open(\"puzzle.txt\").read().split(\"\\n\")]\n",
    "\n",
    "def solve(part):\n",
    "\n",
    "    if part == 2:\n",
    "        X = [x * 811589153 for x in f]\n",
    "    else:\n",
    "        X = f\n",
    "    \n",
    "    X = deque(list(enumerate(X)))\n",
    "\n",
    "    # Do mixing 10 times for part 2\n",
    "    for t in range(10 if part==2 else 1):\n",
    "        for i in range(len(X)):\n",
    "\n",
    "            # Find element and get its index\n",
    "            for j in range(len(X)):\n",
    "                if X[j][0] == i:\n",
    "                    break\n",
    "            \n",
    "            # Cycle the list until reach that element\n",
    "            while X[0][0] != i:\n",
    "                X.append(X.popleft())\n",
    "            \n",
    "            # Calculate how many indices it needs to move\n",
    "            val = X.popleft()\n",
    "            to_pop = val[1] % len(X)\n",
    "\n",
    "            # Cycle the list for the required moves\n",
    "            for _ in range(to_pop):\n",
    "                X.append(X.popleft())\n",
    "            \n",
    "            # Add back the item\n",
    "            X.append(val)\n",
    "    \n",
    "    # Find the index where 0 is\n",
    "    for j in range(len(X)):\n",
    "        if X[j][1] == 0:\n",
    "            break\n",
    "    \n",
    "    # Return the sum\n",
    "    return (X[(j + 1000) % len(X)][1] +\n",
    "            X[(j + 2000) % len(X)][1] +\n",
    "            X[(j + 3000) % len(X)][1])\n",
    "\n",
    "print(solve(1))\n",
    "print(solve(2))"
   ]
  }
 ],
 "metadata": {
  "kernelspec": {
   "display_name": "Python 3.10.8 64-bit",
   "language": "python",
   "name": "python3"
  },
  "language_info": {
   "codemirror_mode": {
    "name": "ipython",
    "version": 3
   },
   "file_extension": ".py",
   "mimetype": "text/x-python",
   "name": "python",
   "nbconvert_exporter": "python",
   "pygments_lexer": "ipython3",
   "version": "3.10.8 (tags/v3.10.8:aaaf517, Oct 11 2022, 16:50:30) [MSC v.1933 64 bit (AMD64)]"
  },
  "orig_nbformat": 4,
  "vscode": {
   "interpreter": {
    "hash": "369f2c481f4da34e4445cda3fffd2e751bd1c4d706f27375911949ba6bb62e1c"
   }
  }
 },
 "nbformat": 4,
 "nbformat_minor": 2
}

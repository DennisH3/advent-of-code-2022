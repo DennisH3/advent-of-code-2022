{
 "cells": [
  {
   "cell_type": "code",
   "execution_count": 1,
   "metadata": {},
   "outputs": [
    {
     "name": "stdout",
     "output_type": "stream",
     "text": [
      "1432936\n",
      "272298\n"
     ]
    }
   ],
   "source": [
    "from collections import defaultdict\n",
    "\n",
    "# Read a file\n",
    "f = open('puzzle.txt').read().split(\"\\n\")\n",
    "\n",
    "# A dictionary that handles missing keys and initiates the value at 0\n",
    "SZ = defaultdict(int)\n",
    "\n",
    "# List of paths\n",
    "path = []\n",
    "\n",
    "# For each line\n",
    "for line in f:\n",
    "\n",
    "    # Split the command by spaces\n",
    "    words = line.strip().split()\n",
    "\n",
    "    # If the 2nd word is cd\n",
    "    if words[1] == 'cd':\n",
    "\n",
    "        # If the last word is ..\n",
    "        if words[2] == '..':\n",
    "\n",
    "            # Remove the last element in the list\n",
    "            # There are no more dirs/files at this level\n",
    "            path.pop()\n",
    "\n",
    "        # Otherwise, this is a new directory\n",
    "        else:\n",
    "            path.append(words[2])\n",
    "\n",
    "    # Can ignore ls and dir commands since cd <dir> already\n",
    "    # specifies a new dir is being traversed\n",
    "    # Else if the first word is a number\n",
    "    elif words[0].isdigit():\n",
    "\n",
    "        # Add this file's size to the current directory size\n",
    "        # and the size of all parents\n",
    "        for i in range(1, len(path)+1):\n",
    "            SZ['/'.join(path[:i])] += int(words[0])\n",
    "\n",
    "# Part 1\n",
    "# Get sum of all dirs <= 100000\n",
    "print(sum([v for _,v in SZ.items() if v <= 100000]))\n",
    "\n",
    "# Part 2\n",
    "# Find size of minimum directory to be deleted\n",
    "print(min([v for _,v in SZ.items() if v >= (SZ['/'] - (70000000 - 30000000))]))"
   ]
  }
 ],
 "metadata": {
  "kernelspec": {
   "display_name": "Python 3.10.8 64-bit",
   "language": "python",
   "name": "python3"
  },
  "language_info": {
   "codemirror_mode": {
    "name": "ipython",
    "version": 3
   },
   "file_extension": ".py",
   "mimetype": "text/x-python",
   "name": "python",
   "nbconvert_exporter": "python",
   "pygments_lexer": "ipython3",
   "version": "3.10.8"
  },
  "orig_nbformat": 4,
  "vscode": {
   "interpreter": {
    "hash": "369f2c481f4da34e4445cda3fffd2e751bd1c4d706f27375911949ba6bb62e1c"
   }
  }
 },
 "nbformat": 4,
 "nbformat_minor": 2
}

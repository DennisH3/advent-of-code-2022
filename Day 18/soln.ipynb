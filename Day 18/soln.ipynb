{
 "cells": [
  {
   "cell_type": "code",
   "execution_count": 18,
   "metadata": {},
   "outputs": [
    {
     "name": "stdout",
     "output_type": "stream",
     "text": [
      "(20, 21, 21)\n",
      "2112\n",
      "1188\n"
     ]
    }
   ],
   "source": [
    "from collections import deque\n",
    "\n",
    "# Read a file\n",
    "# Parse each droplet into its own list\n",
    "f = set([(int(p[0]), int(p[1]), int(p[2])) for p in \n",
    "        [line.split(',') for line in open(\"puzzle.txt\").read().split(\"\\n\")]])\n",
    "\n",
    "# Get dimensions of 3D grid\n",
    "dim = (max([p[0] for p in f]), max([p[1] for p in f]), max([p[2] for p in f]))\n",
    "print(dim)\n",
    "\n",
    "OUT = set()\n",
    "IN = set()\n",
    "def reaches_outside(x,y,z,part):\n",
    "    if (x,y,z) in OUT:\n",
    "        return True\n",
    "    if (x,y,z) in IN:\n",
    "        return False\n",
    "    SEEN = set()\n",
    "    Q = deque([(x,y,z)])\n",
    "    while Q:\n",
    "        x,y,z = Q.popleft()\n",
    "        if ((x,y,z) in f or (x,y,z) in SEEN):\n",
    "            continue\n",
    "        SEEN.add((x,y,z))\n",
    "        if len(SEEN) > (5000 if part==2 else 0):\n",
    "            for p in SEEN:\n",
    "                OUT.add(p)\n",
    "            return True\n",
    "        Q.append((x+1,y,z))\n",
    "        Q.append((x-1,y,z))\n",
    "        Q.append((x,y+1,z))\n",
    "        Q.append((x,y-1,z))\n",
    "        Q.append((x,y,z+1))\n",
    "        Q.append((x,y,z-1))\n",
    "    for p in SEEN:\n",
    "        IN.add(p)\n",
    "    return False\n",
    "\n",
    "def solve(part):\n",
    "    OUT.clear()\n",
    "    IN.clear()\n",
    "\n",
    "    return(sum([1 for (x,y,z) in f \n",
    "                if (reaches_outside(x + 1, y, z, part) or\n",
    "                    reaches_outside(x - 1, y, z, part) or\n",
    "                    reaches_outside(x, y + 1, z, part) or\n",
    "                    reaches_outside(x, y - 1, z, part) or\n",
    "                    reaches_outside(x, y, z + 1, part) or\n",
    "                    reaches_outside(x, y, z - 1, part))]))\n",
    "\n",
    "print(solve(1))\n",
    "print(solve(2))"
   ]
  }
 ],
 "metadata": {
  "kernelspec": {
   "display_name": "Python 3.10.8 64-bit",
   "language": "python",
   "name": "python3"
  },
  "language_info": {
   "codemirror_mode": {
    "name": "ipython",
    "version": 3
   },
   "file_extension": ".py",
   "mimetype": "text/x-python",
   "name": "python",
   "nbconvert_exporter": "python",
   "pygments_lexer": "ipython3",
   "version": "3.10.8"
  },
  "orig_nbformat": 4,
  "vscode": {
   "interpreter": {
    "hash": "369f2c481f4da34e4445cda3fffd2e751bd1c4d706f27375911949ba6bb62e1c"
   }
  }
 },
 "nbformat": 4,
 "nbformat_minor": 2
}

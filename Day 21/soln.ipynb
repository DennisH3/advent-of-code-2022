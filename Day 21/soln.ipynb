{
 "cells": [
  {
   "cell_type": "code",
   "execution_count": 26,
   "metadata": {},
   "outputs": [
    {
     "name": "stdout",
     "output_type": "stream",
     "text": [
      "83056452926300\n",
      "3469704905529\n"
     ]
    }
   ],
   "source": [
    "# Source: https://github.com/jonathanpaulson/AdventOfCode/blob/master/2022/21.py\n",
    "\n",
    "# Read the puzzle into a dictionary\n",
    "# Key: Name of monkey\n",
    "# Value: Expression split into a list\n",
    "E = {k: v.split() for k,v in [line.split(': ')\n",
    "     for line in open(\"puzzle.txt\").read().split(\"\\n\")]}\n",
    "\n",
    "\n",
    "def f(name, h):\n",
    "    '''\n",
    "    Evaluate the monkey's expression\n",
    "\n",
    "    Input:\n",
    "        name (str): Monkey's name\n",
    "        h (int): resulting value\n",
    "    Output:\n",
    "        (int): value of the expression (part 1)/value that human says (part 2)\n",
    "    '''\n",
    "\n",
    "    # Get the expression from the dictionary\n",
    "    words = E[name]\n",
    "\n",
    "    # Part 2\n",
    "    if name == 'humn' and h >= 0:\n",
    "        return h\n",
    "\n",
    "    # Try to convert the first term into an int\n",
    "    try:\n",
    "        return int(words[0])\n",
    "\n",
    "    # If it can't, recursively get the value of each term\n",
    "    # until it can be converted to an int\n",
    "    except:\n",
    "        e1 = f(words[0], h)\n",
    "        e2 = f(words[2], h)\n",
    "\n",
    "        # Perform the specified operation\n",
    "        if words[1] == '+':\n",
    "            return e1 + e2\n",
    "        elif words[1] == '*':\n",
    "            return e1 * e2\n",
    "        elif words[1] == '-':\n",
    "            return e1 - e2\n",
    "        elif words[1] == '/':\n",
    "            return e1 / e2\n",
    "\n",
    "# Part 1\n",
    "print(int(f('root', -1)))\n",
    "\n",
    "# Part 2\n",
    "p1 = E['root'][0]\n",
    "p2 = E['root'][2]\n",
    "\n",
    "# If the 2 values aren't equal, swap them\n",
    "if f(p2, 0) != f(p2, 1):\n",
    "    p1, p2 = p2, p1\n",
    "\n",
    "# Target is number needed to be yelled to pass equality check\n",
    "target = f(p2, 0)\n",
    "\n",
    "# Binary search \n",
    "lo = 0\n",
    "hi = int(1e20)\n",
    "while lo < hi:\n",
    "    mid = (lo+hi)//2\n",
    "\n",
    "    # Calculate the number human needs to yell\n",
    "    score = target - f(p1, mid)\n",
    "\n",
    "    if score < 0:\n",
    "        lo = mid\n",
    "    elif score == 0:\n",
    "        print(mid)\n",
    "        break\n",
    "    else:\n",
    "        hi = mid"
   ]
  }
 ],
 "metadata": {
  "kernelspec": {
   "display_name": "Python 3.10.8 64-bit",
   "language": "python",
   "name": "python3"
  },
  "language_info": {
   "codemirror_mode": {
    "name": "ipython",
    "version": 3
   },
   "file_extension": ".py",
   "mimetype": "text/x-python",
   "name": "python",
   "nbconvert_exporter": "python",
   "pygments_lexer": "ipython3",
   "version": "3.10.8"
  },
  "orig_nbformat": 4,
  "vscode": {
   "interpreter": {
    "hash": "369f2c481f4da34e4445cda3fffd2e751bd1c4d706f27375911949ba6bb62e1c"
   }
  }
 },
 "nbformat": 4,
 "nbformat_minor": 2
}

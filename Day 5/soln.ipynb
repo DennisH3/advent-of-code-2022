{
 "cells": [
  {
   "cell_type": "code",
   "execution_count": 81,
   "metadata": {},
   "outputs": [],
   "source": [
    "# Read file\n",
    "# Split file into 2 parts\n",
    "# Part 1: initial configuration of crates\n",
    "# Part 2: instructions for how to move the crates\n",
    "f = open('puzzle.txt').read().split(\"\\n\\n\")\n",
    "\n",
    "# Initial state\n",
    "# Notice that each column is 3-chars long, and the 4th char is a space\n",
    "# Replace every 4th character (space) with a comma for every row of the\n",
    "# initial configuration, then split the row by the comma to get a row of\n",
    "# N-stacks. This works because the data is tabular treating \"   \" as an\n",
    "# element\n",
    "init = [''.join(ele if (idx+1) % 4 or idx == 0 else ','\n",
    "                for idx, ele in enumerate(r)).split(',')\n",
    "                for r in f[0].split('\\n')]\n",
    "\n",
    "# Transpose the rows to get the crates in each stack\n",
    "# The last number in the last row is the number of columns (or could just take len of first row)\n",
    "# Get the ith element from each row to construct the stacks\n",
    "# Note: the top of the stack is the first element of each list and \n",
    "# the bottom of the stack is the last element of each list\n",
    "init = [[c[i] for c in init[:-1] if c[i] != \"   \"]\n",
    "        for i in range(int(init[-1][-1].strip()[0]))]\n",
    "\n",
    "# Movement\n",
    "# Extract all numbers from each command\n",
    "# Source: https://stackoverflow.com/a/4289557\n",
    "# First number is # of crates, 2nd number is source col, and 3rd number is dest col\n",
    "moves = [[int(s) for s in r.split() if s.isdigit()] for r in f[1].split('\\n')]\n"
   ]
  },
  {
   "cell_type": "code",
   "execution_count": 80,
   "metadata": {},
   "outputs": [
    {
     "name": "stdout",
     "output_type": "stream",
     "text": [
      "ZRLJGSCTR\n"
     ]
    }
   ],
   "source": [
    "# Part 1\n",
    "\n",
    "# Option 1: O(m * c) time\n",
    "# For each move\n",
    "for m in moves:\n",
    "\n",
    "    # For number of crates to be moved\n",
    "    for c in range(m[0]):\n",
    "\n",
    "            # Move crate from one stack to another\n",
    "            # Note: insert(0) prepends the crate to dest\n",
    "            #  while pop deletes it from source\n",
    "            init[m[2]-1].insert(0, init[m[1]-1].pop(0))\n",
    "\n",
    "# Get the top of each stack as one-string\n",
    "print(\"\".join([c[0] for c in init]).replace('[', \"\").replace(']', \"\"))"
   ]
  },
  {
   "cell_type": "code",
   "execution_count": 82,
   "metadata": {},
   "outputs": [
    {
     "name": "stdout",
     "output_type": "stream",
     "text": [
      "ZRLJGSCTR\n"
     ]
    }
   ],
   "source": [
    "# Part 1\n",
    "# Reverse the order of crates being added\n",
    "for m in moves:\n",
    "\n",
    "    # Prepend the range of blocks in reverse order\n",
    "    init[m[2]-1][:0] = init[m[1]-1][:m[0]][::-1]\n",
    "\n",
    "    # Delete the moved blocks from source\n",
    "    init[m[1]-1] = init[m[1]-1][m[0]:]\n",
    "\n",
    "# Get the top of each stack as one-string\n",
    "print(\"\".join([c[0] for c in init]).replace('[', \"\").replace(']', \"\"))"
   ]
  },
  {
   "cell_type": "code",
   "execution_count": 78,
   "metadata": {},
   "outputs": [
    {
     "name": "stdout",
     "output_type": "stream",
     "text": [
      "PRTTGRFPB\n"
     ]
    }
   ],
   "source": [
    "# Part 2\n",
    "# Instead of reverse order while moving crates, preserve order\n",
    "for m in moves:\n",
    "\n",
    "    # Prepend the range of blocks in order\n",
    "    init[m[2]-1][:0] = init[m[1]-1][:m[0]]\n",
    "\n",
    "    # Delete the moved blocks from source\n",
    "    init[m[1]-1] = init[m[1]-1][m[0]:]\n",
    "\n",
    "# Get the top of each stack as one string\n",
    "print(\"\".join([c[0] for c in init]).replace('[', \"\").replace(']', \"\"))"
   ]
  }
 ],
 "metadata": {
  "kernelspec": {
   "display_name": "Python 3.10.8 64-bit",
   "language": "python",
   "name": "python3"
  },
  "language_info": {
   "codemirror_mode": {
    "name": "ipython",
    "version": 3
   },
   "file_extension": ".py",
   "mimetype": "text/x-python",
   "name": "python",
   "nbconvert_exporter": "python",
   "pygments_lexer": "ipython3",
   "version": "3.10.8"
  },
  "orig_nbformat": 4,
  "vscode": {
   "interpreter": {
    "hash": "369f2c481f4da34e4445cda3fffd2e751bd1c4d706f27375911949ba6bb62e1c"
   }
  }
 },
 "nbformat": 4,
 "nbformat_minor": 2
}

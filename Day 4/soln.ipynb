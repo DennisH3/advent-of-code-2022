{
 "cells": [
  {
   "cell_type": "code",
   "execution_count": 1,
   "metadata": {},
   "outputs": [
    {
     "name": "stdout",
     "output_type": "stream",
     "text": [
      "534\n",
      "841\n"
     ]
    }
   ],
   "source": [
    "# Read file\n",
    "f = open('puzzle.txt').read().split(\"\\n\")\n",
    "\n",
    "# Part 1\n",
    "# Count number of pairs where one range is strictly a subset of the other\n",
    "\n",
    "# Use a list that stores each occurence with 1\n",
    "# Read each line and split by the comma to get a list of ranges as a pair\n",
    "# For each section of each pair, convert the range into a pair of integers\n",
    "\n",
    "# if 1st start range <= 2nd start range and 2nd end range <= 1st end range,\n",
    "# 2nd range is a complete subset of the 1st range.\n",
    "# or if 2nd start range <= 1st start range and 1st end range <= 2nd end range,\n",
    "# 1st range is a complete subset of the 2nd range.\n",
    "count = [1 for e in [[[int(i) for i in s.split('-')] for s in p]\n",
    "            for p in [p.split(',') for p in f]]\n",
    "            if ((e[0][0] <= e[1][0] and e[1][1] <= e[0][1]) or\n",
    "                (e[1][0] <= e[0][0] and e[0][1] <= e[1][1]))]\n",
    "\n",
    "print(sum(count))\n",
    "\n",
    "# Part 2\n",
    "# Count number of pairs where there is any overlap between ranges\n",
    "\n",
    "# Use a list that stores each occurence with 1\n",
    "# Read each line and split by the comma to get a list of ranges as a pair\n",
    "# For each section of each pair, convert the range into a pair of integers\n",
    "\n",
    "# if the start range of either section is in the range of the other, an\n",
    "# overlap exists\n",
    "# If (1st start range <= 2nd start range and 1st start range <= 2nd end range),\n",
    "# 1st range overlaps with the 2nd range\n",
    "# or (2nd start range <= 1st start range and 2nd start range <= 1st end range),\n",
    "# 2nd range overlaps with the 1st\n",
    "count = [1 for e in [[[int(i) for i in s.split('-')] for s in p]\n",
    "            for p in [p.split(',') for p in f]]\n",
    "            if ((e[0][0] <= e[1][0] and e[1][0] <= e[0][1]) or\n",
    "                (e[1][0] <= e[0][0] and e[0][0] <= e[1][1]))]\n",
    "\n",
    "print(sum(count))"
   ]
  }
 ],
 "metadata": {
  "kernelspec": {
   "display_name": "Python 3.10.8 64-bit",
   "language": "python",
   "name": "python3"
  },
  "language_info": {
   "codemirror_mode": {
    "name": "ipython",
    "version": 3
   },
   "file_extension": ".py",
   "mimetype": "text/x-python",
   "name": "python",
   "nbconvert_exporter": "python",
   "pygments_lexer": "ipython3",
   "version": "3.10.8"
  },
  "orig_nbformat": 4,
  "vscode": {
   "interpreter": {
    "hash": "369f2c481f4da34e4445cda3fffd2e751bd1c4d706f27375911949ba6bb62e1c"
   }
  }
 },
 "nbformat": 4,
 "nbformat_minor": 2
}

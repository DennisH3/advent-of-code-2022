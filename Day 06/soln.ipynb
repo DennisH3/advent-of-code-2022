{
 "cells": [
  {
   "cell_type": "code",
   "execution_count": 6,
   "metadata": {},
   "outputs": [
    {
     "name": "stdout",
     "output_type": "stream",
     "text": [
      "1042\n"
     ]
    }
   ],
   "source": [
    "# Part 1\n",
    "# Find first instance of 4 unique consecutive chars\n",
    "f = open('puzzle.txt').read()\n",
    "\n",
    "# For every char up len-4 (check 4 chars at a time)\n",
    "for i in range(len(f)-3):\n",
    "\n",
    "    # If length of the unique chars in window == 4\n",
    "    # Use set to get unique chars\n",
    "    if len(set(f[i:i+4])) == 4:\n",
    "\n",
    "        # Index is the last char\n",
    "        # Break to stop\n",
    "        print(i+4)\n",
    "        break"
   ]
  },
  {
   "cell_type": "code",
   "execution_count": 7,
   "metadata": {},
   "outputs": [
    {
     "name": "stdout",
     "output_type": "stream",
     "text": [
      "2980\n"
     ]
    }
   ],
   "source": [
    "# Part 2\n",
    "# Find first instance of 14 unique consecutive chars\n",
    "\n",
    "# For every char up len-14 (check 14 chars at a time)\n",
    "for i in range(len(f)-13):\n",
    "\n",
    "    # If length of the unique chars in window == 14\n",
    "    # Use set to get unique chars\n",
    "    if len(set(f[i:i+14])) == 14:\n",
    "\n",
    "        # Index is the last char\n",
    "        # Break to stop\n",
    "        print(i+14)\n",
    "        break"
   ]
  }
 ],
 "metadata": {
  "kernelspec": {
   "display_name": "Python 3.10.8 64-bit",
   "language": "python",
   "name": "python3"
  },
  "language_info": {
   "codemirror_mode": {
    "name": "ipython",
    "version": 3
   },
   "file_extension": ".py",
   "mimetype": "text/x-python",
   "name": "python",
   "nbconvert_exporter": "python",
   "pygments_lexer": "ipython3",
   "version": "3.10.8"
  },
  "orig_nbformat": 4,
  "vscode": {
   "interpreter": {
    "hash": "369f2c481f4da34e4445cda3fffd2e751bd1c4d706f27375911949ba6bb62e1c"
   }
  }
 },
 "nbformat": 4,
 "nbformat_minor": 2
}

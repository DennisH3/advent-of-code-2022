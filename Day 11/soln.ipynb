{
 "cells": [
  {
   "cell_type": "code",
   "execution_count": 4,
   "metadata": {},
   "outputs": [
    {
     "name": "stdout",
     "output_type": "stream",
     "text": [
      "120756\n",
      "39109444654\n"
     ]
    }
   ],
   "source": [
    "# Read a file\n",
    "# Split lines into monkey objects and remove the monkey number, since it can be\n",
    "# represented as the index in a list\n",
    "f = [line.split(\"\\n\")[1:] for line in open(\"puzzle.txt\").read().split(\"\\n\\n\")]\n",
    "\n",
    "# Get lowest common multiple of all tests\n",
    "# Check divisibility by modding lcm works due to Chinese Remainder Theorem\n",
    "lcm = 1\n",
    "for x in [int(f[i][2].strip().replace(\"Test: divisible by \", \"\")) for i in range(len(f))]:\n",
    "    lcm = lcm * x\n",
    "\n",
    "# Part 1 - 20 rounds\n",
    "# Part 2 - 10000 rounds\n",
    "for rounds in [20, 10000]:\n",
    "\n",
    "    # Extract the starting items as a list of ints\n",
    "    items = [[int(item) for item in f[i][0].strip().replace(\"Starting items: \", \"\").split(\", \")]\n",
    "            for i in range(len(f))]\n",
    "\n",
    "    # Empty list to store total number of times each monkey inspects items\n",
    "    count = [0] * len(f)\n",
    "\n",
    "    # For each round\n",
    "    for _ in range(rounds):\n",
    "\n",
    "        # For each monkey\n",
    "        for m in range(len(f)):\n",
    "\n",
    "            # For each item the monkey has\n",
    "            for i in items[m]:\n",
    "                \n",
    "                # Evaluate new worry value\n",
    "                if rounds == 20:\n",
    "                    new = eval(str(i) + f[m][1].replace(\"  Operation: new = old\", \"\").replace(\"* old\", \"** 2\")) // 3\n",
    "                else:\n",
    "                    new = eval(str(i % lcm) + f[m][1].replace(\"  Operation: new = old\", \"\").replace(\"* old\", f\"* {i}\"))\n",
    "\n",
    "                # Pass item to correct monkey\n",
    "                if new % int(f[m][2].replace(\"  Test: divisible by \", \"\")) == 0:\n",
    "                    items[int(f[m][3].replace(\"    If true: throw to monkey \", \"\"))].append(new)\n",
    "                else:\n",
    "                    items[int(f[m][4].replace(\"    If false: throw to monkey \", \"\"))].append(new)\n",
    "                \n",
    "                # Increment this monkey's number of inspected items\n",
    "                count[m] += 1\n",
    "\n",
    "                # Remove the first item\n",
    "                items[m] = items[m][1:]\n",
    "\n",
    "    # Sort count\n",
    "    final = sorted(count, reverse=True)\n",
    "    print(final[0] * final[1])\n"
   ]
  }
 ],
 "metadata": {
  "kernelspec": {
   "display_name": "Python 3.10.8 64-bit",
   "language": "python",
   "name": "python3"
  },
  "language_info": {
   "codemirror_mode": {
    "name": "ipython",
    "version": 3
   },
   "file_extension": ".py",
   "mimetype": "text/x-python",
   "name": "python",
   "nbconvert_exporter": "python",
   "pygments_lexer": "ipython3",
   "version": "3.10.8"
  },
  "orig_nbformat": 4,
  "vscode": {
   "interpreter": {
    "hash": "369f2c481f4da34e4445cda3fffd2e751bd1c4d706f27375911949ba6bb62e1c"
   }
  }
 },
 "nbformat": 4,
 "nbformat_minor": 2
}

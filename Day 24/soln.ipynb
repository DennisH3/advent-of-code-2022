{
 "cells": [
  {
   "cell_type": "code",
   "execution_count": 6,
   "metadata": {},
   "outputs": [
    {
     "name": "stdout",
     "output_type": "stream",
     "text": [
      "240\n",
      "717\n"
     ]
    }
   ],
   "source": [
    "# Source: https://github.com/jonathanpaulson/AdventOfCode/blob/master/2022/24.py\n",
    "from collections import deque\n",
    "\n",
    "# Read a file\n",
    "f = [x for x in open(\"puzzle.txt\").read().split('\\n')]\n",
    "\n",
    "# Define number of rows and columns\n",
    "R = len(f)\n",
    "C = len(f[0])\n",
    "\n",
    "# Find starting location\n",
    "# First row, first col that is not a '#' or\n",
    "# Find the index of the '.'\n",
    "r = 0\n",
    "c = f[0].index('.')\n",
    "\n",
    "# Pre-compute where all the obstacles are for every minute\n",
    "# for a total of ((R - 2) * (C - 2) + 1) minutes\n",
    "BAD_CELLS = {}\n",
    "for t in range((R - 2) * (C - 2) + 1):\n",
    "  BAD = set()\n",
    "  for rr in range(R):\n",
    "    for cc in range(C):\n",
    "      if f[rr][cc] == '>':\n",
    "        BAD.add((rr, 1 + ((cc - 1 + t) % (C - 2))))\n",
    "      elif f[rr][cc] == 'v':\n",
    "        BAD.add((1+((rr - 1 + t) % (R - 2)), cc))\n",
    "      elif f[rr][cc] == '<':\n",
    "        BAD.add((rr, 1+((cc - 1 - t) % (C - 2))))\n",
    "      elif f[rr][cc] == '^':\n",
    "        BAD.add((1 + ((rr - 1 - t) % (R - 2)), cc))\n",
    "  BAD_CELLS[t] = BAD\n",
    "\n",
    "# Do BFS with current location and time\n",
    "p1 = False\n",
    "start = (r, c, 0, False, False)\n",
    "SEEN = set()\n",
    "Q = deque([start])\n",
    "\n",
    "while Q:\n",
    "\n",
    "  # Get current state\n",
    "  (r, c, t, got_end, got_start) = Q.popleft()\n",
    "\n",
    "  # Continue if not hitting a wall or if cell has already been visited\n",
    "  if (not (0 <= r < R and 0 <= c < C and f[r][c] != '#') or \n",
    "     (r, c, t, got_start, got_end) in SEEN):\n",
    "    continue\n",
    "\n",
    "  # Reached the end once\n",
    "  if r == R - 1 and (not p1):\n",
    "    print(t)\n",
    "    p1 = True  \n",
    "  \n",
    "  # Part 2\n",
    "  # If reached the last row, got to the end\n",
    "  if r == R - 1:\n",
    "    got_end = True\n",
    "  \n",
    "  # If reached start and already reached end once\n",
    "  if r == 0 and got_end:\n",
    "    got_start = True\n",
    "  \n",
    "  # If we are at the end again, done part 2\n",
    "  if r == R - 1 and got_end and got_start:\n",
    "    print(t)\n",
    "    break\n",
    "  \n",
    "  # Add current state to visited set\n",
    "  SEEN.add((r, c, t, got_start, got_end))\n",
    "\n",
    "  # Update location of obstacles\n",
    "  BAD = BAD_CELLS[t+1]\n",
    "\n",
    "  # Consider all the possible moves while avoiding blizzards\n",
    "  # Can stay still or move to any of the 4 cardinal directions\n",
    "  if (r, c) not in BAD:\n",
    "    Q.append((r, c, t + 1, got_end, got_start))\n",
    "  if (r + 1, c) not in BAD:\n",
    "    Q.append((r + 1, c, t + 1, got_end, got_start))\n",
    "  if (r - 1, c) not in BAD:\n",
    "    Q.append((r - 1, c, t + 1, got_end, got_start))\n",
    "  if (r, c + 1) not in BAD:\n",
    "    Q.append((r, c + 1, t + 1, got_end, got_start))\n",
    "  if (r, c - 1) not in BAD:\n",
    "    Q.append((r, c - 1, t + 1, got_end, got_start))"
   ]
  }
 ],
 "metadata": {
  "kernelspec": {
   "display_name": "Python 3",
   "language": "python",
   "name": "python3"
  },
  "language_info": {
   "codemirror_mode": {
    "name": "ipython",
    "version": 3
   },
   "file_extension": ".py",
   "mimetype": "text/x-python",
   "name": "python",
   "nbconvert_exporter": "python",
   "pygments_lexer": "ipython3",
   "version": "3.10.8"
  },
  "vscode": {
   "interpreter": {
    "hash": "369f2c481f4da34e4445cda3fffd2e751bd1c4d706f27375911949ba6bb62e1c"
   }
  }
 },
 "nbformat": 4,
 "nbformat_minor": 2
}

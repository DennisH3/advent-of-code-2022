{
 "cells": [
  {
   "cell_type": "code",
   "execution_count": 37,
   "metadata": {},
   "outputs": [
    {
     "name": "stdout",
     "output_type": "stream",
     "text": [
      "7795\n"
     ]
    }
   ],
   "source": [
    "# Constants\n",
    "# Dictionary of priorities\n",
    "# Resources: \n",
    "# 1. https://stackoverflow.com/a/51466185 - generate dictionary of lower- and uppercase letters\n",
    "# 2. https://www.geeksforgeeks.org/python-merging-two-dictionaries/ - Merge 2 dicts\n",
    "PRIORITY = {chr(i+96):i for i in range(1,27)} | {chr(i+64):i+26 for i in range(1,27)}\n",
    "\n",
    "# Open the text file\n",
    "with open('puzzle.txt') as f:\n",
    "\n",
    "    # Part 1\n",
    "    # Convert the common letter (letter in both compartments) to its priority value for each rucksack\n",
    "    total = [PRIORITY[k] for k in [list(set(c[:len(c)//2]) & set(c[len(c)//2:]))[0]\n",
    "                                   for c in f.read().split(\"\\n\")]]\n",
    "\n",
    "print(sum(total))"
   ]
  },
  {
   "cell_type": "code",
   "execution_count": 48,
   "metadata": {},
   "outputs": [
    {
     "name": "stdout",
     "output_type": "stream",
     "text": [
      "2703\n"
     ]
    }
   ],
   "source": [
    "# Open the text file\n",
    "with open('puzzle.txt') as f:\n",
    "\n",
    "    # Part 2\n",
    "    # Resource:\n",
    "    # https://stackoverflow.com/a/29943565 - Join every 3 lines together\n",
    "\n",
    "    # Get values for common letter within 3 rucksacks by reading in 3 lines as 1-group\n",
    "    # Read 3-lines as 1 group and replace newline char with split to get a list of 3-strings.\n",
    "    # For each of these groups find the common letter by turning each rucksuck into a set and\n",
    "    # finding the intersection. Finally, convert the common letter into its priority value.  \n",
    "    total = [PRIORITY[k] for k in [list(set(list(g[0])).intersection(list(g[1]), list(g[2])))[0]\n",
    "                                   for g in [\"\".join(g).replace(\"\\n\", \" \").split()\n",
    "                                             for g in zip(f, f, f)]]]\n",
    "\n",
    "print(sum(total))"
   ]
  }
 ],
 "metadata": {
  "kernelspec": {
   "display_name": "Python 3.10.8 64-bit",
   "language": "python",
   "name": "python3"
  },
  "language_info": {
   "codemirror_mode": {
    "name": "ipython",
    "version": 3
   },
   "file_extension": ".py",
   "mimetype": "text/x-python",
   "name": "python",
   "nbconvert_exporter": "python",
   "pygments_lexer": "ipython3",
   "version": "3.10.8"
  },
  "orig_nbformat": 4,
  "vscode": {
   "interpreter": {
    "hash": "369f2c481f4da34e4445cda3fffd2e751bd1c4d706f27375911949ba6bb62e1c"
   }
  }
 },
 "nbformat": 4,
 "nbformat_minor": 2
}

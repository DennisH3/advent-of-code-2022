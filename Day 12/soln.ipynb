{
 "cells": [
  {
   "cell_type": "code",
   "execution_count": 5,
   "metadata": {},
   "outputs": [
    {
     "name": "stdout",
     "output_type": "stream",
     "text": [
      "437\n",
      "430\n"
     ]
    }
   ],
   "source": [
    "from collections import deque\n",
    "\n",
    "# Read a file\n",
    "f = [[x for x in list(line)]\n",
    "     for line in open('puzzle.txt').read().split(\"\\n\")]\n",
    "\n",
    "# Convert letters to their numerical values from 1-26\n",
    "# if S (S = a): 1\n",
    "# elif E (E = z): 26\n",
    "# else subtract the value of 'a' and add 1 to not be 0-indexed\n",
    "E = [[1 if f[r][c]=='S'else 26 \n",
    "        if f[r][c] == 'E' else ord(f[r][c])-ord('a') + 1 \n",
    "     for c in range(len(f[0]))] for r in range(len(f))]\n",
    "\n",
    "# Use BFS (Breadth first search) to find shortest path from S -> E\n",
    "def bfs(part):\n",
    "\n",
    "    # Initialize deque\n",
    "    Q = deque()\n",
    "\n",
    "    # For each row and grid\n",
    "    for r in range(len(f)):\n",
    "        for c in range(len(f[0])):\n",
    "\n",
    "            # If part is one and cell is S or if part is 2 and cell is an 'a'\n",
    "            # Note: in the E grid 'a's = 1\n",
    "            if (part==1 and f[r][c]=='S') or (part==2 and E[r][c] == 1):\n",
    "                Q.append(((r,c), 0))\n",
    "\n",
    "    # Use a set as to not traverse to a visited cell already\n",
    "    S = set()\n",
    "\n",
    "    # While there are still elements in the queue\n",
    "    while Q:\n",
    "\n",
    "        # Get the first element and add the cell's coordinates to the set\n",
    "        (r,c),d = Q.popleft()\n",
    "\n",
    "        # If row, col is already in the set, continue\n",
    "        if (r,c) in S:\n",
    "            continue\n",
    "        \n",
    "        # Add cell to set; traversed this cell\n",
    "        S.add((r,c))\n",
    "\n",
    "        # If we have reached our destination, print the cost\n",
    "        if f[r][c]=='E':\n",
    "            return d\n",
    "        \n",
    "        # For each direction (try all possible moves)\n",
    "        for dr,dc in [(-1,0), (0,1), (1,0), (0,-1)]:\n",
    "\n",
    "            # Calculate new coordinates for each move\n",
    "            rr = r+dr\n",
    "            cc = c+dc\n",
    "\n",
    "            # If 0 < new row coordinate < len of row and\n",
    "            # 0 < new col coordinate < len of columns and\n",
    "            # the height of this new row, col is <= 1 + current cell's height\n",
    "            # Add this new row, col to Q with an incremented cost value\n",
    "            if 0 <= rr < len(f) and 0 <= cc < len(f[0]) and E[rr][cc] <= 1 + E[r][c]:\n",
    "                Q.append(((rr, cc), d + 1))\n",
    "\n",
    "# Do BFS for part 1 and 2\n",
    "print(bfs(1))\n",
    "print(bfs(2))"
   ]
  }
 ],
 "metadata": {
  "kernelspec": {
   "display_name": "Python 3.10.8 64-bit",
   "language": "python",
   "name": "python3"
  },
  "language_info": {
   "codemirror_mode": {
    "name": "ipython",
    "version": 3
   },
   "file_extension": ".py",
   "mimetype": "text/x-python",
   "name": "python",
   "nbconvert_exporter": "python",
   "pygments_lexer": "ipython3",
   "version": "3.10.8"
  },
  "orig_nbformat": 4,
  "vscode": {
   "interpreter": {
    "hash": "369f2c481f4da34e4445cda3fffd2e751bd1c4d706f27375911949ba6bb62e1c"
   }
  }
 },
 "nbformat": 4,
 "nbformat_minor": 2
}
